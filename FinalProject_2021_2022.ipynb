{
 "cells": [
  {
   "cell_type": "code",
   "execution_count": 12,
   "id": "3fe94688",
   "metadata": {
    "id": "3fe94688"
   },
   "outputs": [],
   "source": [
    "%matplotlib inline\n",
    "from typing import Tuple,Callable\n",
    "from numpy import *\n",
    "import matplotlib.pyplot as plt\n",
    "import pandas as pd"
   ]
  },
  {
   "cell_type": "markdown",
   "id": "8184faab",
   "metadata": {
    "id": "8184faab"
   },
   "source": [
    "Consider the following one-dimensional PDE:\n",
    "$$\n",
    "-u_{xx}(x) = f(x)\\quad\\mathrm{ in }\\ \\Omega = (0, \\pi)\n",
    "$$\n",
    "$$\n",
    "u(x) = 0, \\quad\\mathrm{ on }\\ \\partial\\Omega = \\{0, \\pi\\}\n",
    "$$\n",
    "\n",
    "Given the following $4^{th}$ order finite difference approximation of the second order derivative:\n",
    "\n",
    "$$u_{xx}(x_i) = \\frac{-u_{i-2}+16u_{i-1}-30u_i+16u_{i+1}-u_{i+2}}{12h^2}$$\n",
    "\n",
    "Implement a function that given the domain interval, the forcing function, the number of discretization points, the boundary conditions, returns the matrix $A$ and the the right hand side $b$."
   ]
  },
  {
   "cell_type": "code",
   "execution_count": 28,
   "id": "1c562f13",
   "metadata": {
    "id": "1c562f13"
   },
   "outputs": [],
   "source": [
    "def finDif(omega:list, f:Callable , n:int, bc:list) -> Tuple[ndarray,ndarray]:\n",
    "    \"\"\"\n",
    "    Function that returns the finite different matrix A and the right hand side b \n",
    "    for 4th order finite difference approximation of the second order derivative.\n",
    "    \n",
    "    Inputs:\n",
    "        omega: domain interval.\n",
    "        f:     forcing function.\n",
    "        n:     number of discretization points (used inside the domain of the PDE).\n",
    "        bc:    boundary conditions.\n",
    "    \n",
    "    \"\"\"\n",
    "    h = (omega[1] - omega[0]) / ( n - 1 )     # choose the step size in the interval omega\n",
    "    x = linspace(omega[0], omega[1], n)       # define discretization points in the interval omega\n",
    "    b = f(x)                                  # calculate the function at discretization points\n",
    "    b[0], b[n-1] = bc                          # set boundary conditions         \n",
    "    \n",
    "    A = diag([-1 for i in range(0,n-2)], -2)  \\\n",
    "    + diag([16 for i in range(0,n-1)], -1)    \\\n",
    "    + diag([-30 for i in range(0,n)])         \\\n",
    "    + diag([16 for i in range(0,n-1)], 1)     \\\n",
    "    + diag([-1 for i in range(0,n-2)], 2)     # create the A matrix from the 4th order FD approximation \n",
    "    \n",
    "    A = - A / (12*(h**2))\n",
    "    \n",
    "    return A, b"
   ]
  },
  {
   "cell_type": "markdown",
   "id": "c21bb21e",
   "metadata": {
    "id": "c21bb21e"
   },
   "source": [
    "Call the function using:"
   ]
  },
  {
   "cell_type": "code",
   "execution_count": 17,
   "id": "23af8831",
   "metadata": {
    "id": "23af8831"
   },
   "outputs": [],
   "source": [
    "omega = [0,pi]\n",
    "f = lambda x : sin(x)\n",
    "n = 100\n",
    "bc = [0,0]\n",
    "A, b = finDif(omega, f, n, bc)"
   ]
  },
  {
   "cell_type": "markdown",
   "id": "4f8a7c6f",
   "metadata": {
    "id": "4f8a7c6f"
   },
   "source": [
    "Implement two functions that compute the LU and the Cholesky factorization of the system matrix $A$"
   ]
  },
  {
   "cell_type": "code",
   "execution_count": 27,
   "id": "47468a37",
   "metadata": {
    "id": "47468a37"
   },
   "outputs": [],
   "source": [
    "def LU(A:ndarray, pivot:bool = False):\n",
    "    \"\"\"\n",
    "    Perform LU factorization of the system matrix A.\n",
    "\n",
    "    Inputs: \n",
    "        A: squared and non-singular/invertible matrix.\n",
    "    \n",
    "    Notes: The pivot is set by default as False.\n",
    "           In the case in which the pivot = True, the function returns, not only \n",
    "           the lower triangular matrix L and the upper triangular matrix U but also \n",
    "           the permutation matrix P.\n",
    "    \"\"\"\n",
    "    \n",
    "    assert(shape(A)[0] == shape(A)[1]), \"The matrix A has to be square\"\n",
    "    assert(linalg.det(A) != 0), \"The matrix A has to be invertible/non-singular\"\n",
    "    \n",
    "    A = array(A, 'float64')                      # convertig to a numpy array\n",
    "    n = A.shape[0]                               # number of rows/columns\n",
    "    \n",
    "    L = eye(n, dtype=double)                     # lower triangular matrix (matrix of multipliers)\n",
    "    P = eye(n, dtype=double)                     # permutation matrix\n",
    "    U = A.copy()                                 # upper triangular matrix \n",
    "    \n",
    "    for i in range(n):\n",
    "        if pivot:\n",
    "            for k in range(i, n):                # for all the rows below the ith row\n",
    "                if U[i, i] != 0:                 # select row that has a nonzero value in ith col\n",
    "                    break\n",
    "                \n",
    "                U[[k, k+1]] = U[[k+1, k]]        # exchange rows and columns\n",
    "                P[[k, k+1]] = P[[k+1, k]]        # exchange rows and columns\n",
    "\n",
    "        l_factor = U[i+1:, i] / U[i, i]          # define the multiplier l\n",
    "        L[i+1:, i] = l_factor                    # place the multiplier in matrix L\n",
    "        U[i+1:] -= l_factor[:,newaxis] * U[i]    # update U matrix at step i\n",
    "          \n",
    "    if pivot:\n",
    "        return P, L, U\n",
    "    \n",
    "    return L, U\n",
    "\n",
    "L, U = LU(A)"
   ]
  },
  {
   "cell_type": "code",
   "execution_count": 5,
   "id": "193ebfed",
   "metadata": {
    "id": "193ebfed"
   },
   "outputs": [],
   "source": [
    "def cholesky(A:ndarray) -> Tuple[ndarray,ndarray]:\n",
    "    \"\"\"\n",
    "    Compute cholesky factorization of matrix A.\n",
    "\n",
    "    Inputs: \n",
    "        A: squared, non-singular/invertible and symmetric postive matrix.\n",
    "   \n",
    "    Notes: The assumptions for A are checked as first step.\n",
    "           The function returns the matrix L and its conjugate transpose.\n",
    "    \"\"\"\n",
    "    \n",
    "    assert(shape(A)[0] == shape(A)[1]), \"Matrix has to be squared\"\n",
    "    assert(allclose(A, A.transpose())), \"Matrix is not symmetric, Cholesky factorization cannot be computed\"\n",
    "    assert(all(linalg.eigvals(A) > 0)), \"Matrix not positive definite, Cholesky factorization cannot be computed \"\n",
    "    \n",
    "    A = array(A, 'float64')                      # convertig to a numpy array\n",
    "    n = A.shape[0]                               # number of rows/columns\n",
    "    L = zeros((n, n), dtype=double)              # initialize matrix L\n",
    "    \n",
    "    L[0, 0] = sqrt(A[0, 0])                        # set first element\n",
    "    \n",
    "    for i in range(1,n):\n",
    "        for j in range(i):    \n",
    "            L[j, i] = (A[i, j] - L[:j, i] @ L[:j, j]) / L[j, j]\n",
    "        L[i, i] = sqrt(A[i, i] - L[:i, i] @ L[:i, i]) # set diagonal elements\n",
    "    \n",
    "    return L, L.transpose()\n",
    "\n",
    "HT, H = cholesky(A)"
   ]
  },
  {
   "cell_type": "markdown",
   "id": "41eb8436",
   "metadata": {
    "id": "41eb8436"
   },
   "source": [
    "Implement forward and backward substitution functions to exploit the developed factorization methods to solve the derived linear system of equations."
   ]
  },
  {
   "cell_type": "code",
   "execution_count": 26,
   "id": "019cf0df",
   "metadata": {
    "id": "019cf0df"
   },
   "outputs": [],
   "source": [
    "def L_solve(L:ndarray, rhs:ndarray) -> ndarray:\n",
    "    \"\"\"\n",
    "    Perform, for a lower triangular matrix L, the forward substitution algorithm\n",
    "    for solving a system of linear equations.\n",
    "    \n",
    "    Inputs: \n",
    "        L:   squared and lower triangular matrix.\n",
    "        rhs: vector.\n",
    "    \n",
    "    \"\"\"  \n",
    "    assert(shape(L)[0] == shape(L)[1]), \"Matrix has to be squared\"\n",
    "    assert(allclose(L, tril(L))), \"Matrix is not lower triangular\"\n",
    "    \n",
    "    L = array(L, dtype = 'float64')           # convertig to a numpy array   \n",
    "    rhs = array(rhs, dtype = 'float64')       # convertig to a numpy array\n",
    "    n = L.shape[0]                            # number of rows/columns          \n",
    "   \n",
    "    x = zeros_like(rhs, dtype = 'float64')    # allocate space for x: solution vector\n",
    "    x[0] = rhs[0] / L[0, 0]                   # set x0\n",
    "    \n",
    "    for i in range(1, n):\n",
    "        x[i] = ( rhs[i] - dot(L[i, :i], x[:i] ) ) / L[i, i]\n",
    "    \n",
    "    return x"
   ]
  },
  {
   "cell_type": "code",
   "execution_count": 25,
   "id": "26ce17c4",
   "metadata": {
    "id": "26ce17c4"
   },
   "outputs": [],
   "source": [
    "def U_solve(U:ndarray ,rhs:ndarray) -> ndarray:\n",
    "    \"\"\"\n",
    "    Perform, for a upper triangular matrix U, the backward substitution algorithm \n",
    "    for solving a system of linear equations.\n",
    "    \n",
    "    Inputs: \n",
    "        U:   squared and upper triangular matrix.\n",
    "        rhs: vector of non-linear.\n",
    "    \"\"\" \n",
    "    \n",
    "    assert(shape(U)[0] == shape(U)[1]), \"Matrix has to be squared\"\n",
    "    assert(allclose(U, triu(U))), \"Matrix is not upper triangular\"\n",
    "    \n",
    "    U = array(U, dtype = 'float64')          # convertig to a numpy array  \n",
    "    rhs = array(rhs, dtype = 'float64')      # convertig to a numpy array\n",
    "    n = U.shape[0]                           # number of rows/columns  \n",
    "    \n",
    "    x = zeros_like(rhs, dtype = 'float64')   # allocate space for x: solution vector\n",
    "    x[-1] = rhs[-1] / U[-1,-1]               # set xn\n",
    "\n",
    "    for i in range(n-1, -1, -1):\n",
    "        x[i] = ( rhs[i] - dot(U[i, i+1:], x[i+1:]) ) / U[i, i]   \n",
    "        \n",
    "    return x"
   ]
  },
  {
   "cell_type": "markdown",
   "id": "08ac9ba1",
   "metadata": {
    "id": "08ac9ba1"
   },
   "source": [
    "Solve the derived linear system using the implemented functions and plot the computed solution:"
   ]
  },
  {
   "cell_type": "code",
   "execution_count": 23,
   "id": "7c1de4f3",
   "metadata": {
    "id": "7c1de4f3"
   },
   "outputs": [],
   "source": [
    "def solve_system(A:ndarray ,b:ndarray, pivot:bool = True):\n",
    "    \"\"\"\n",
    "    Function to solve linear system bu LU factorization.\n",
    "    \n",
    "    Inouts:\n",
    "        A: squared and non-singular matrix.\n",
    "        b: vector of non-linear system.\n",
    "    \n",
    "    \"\"\"\n",
    "    assert(shape(A)[0] == shape(A)[1]), \"Matrix has to be squared\"\n",
    "    assert(linalg.det(A) != 0), \"The matrix A has to be invertible/non-singular\"\n",
    "    \n",
    "    if (pivot):\n",
    "         P, L, U = LU(A, pivot)   # obtain the factorization\n",
    "    else:\n",
    "         L, U = LU(A, pivot)\n",
    "         P = identity(shape(A)[0]) # if the factorization is performed without pivoting \n",
    "                                   # the permutation matrix P is the identity matrix\n",
    "    \n",
    "    y = L_solve(L, matmul(b,P))   # find y by exploting the forward substituion algorithm\n",
    "    x = U_solve(U, y)             # find the solution x by backward substitution algorithm\n",
    "    return x\n"
   ]
  },
  {
   "cell_type": "code",
   "execution_count": 52,
   "id": "5bee0793",
   "metadata": {},
   "outputs": [],
   "source": [
    "def plot_result(omega:int , x:ndarray):\n",
    "    \"\"\"\n",
    "    Function for plotting the solution of a finite difference problem.\n",
    "    \n",
    "    Inputs:\n",
    "        omega: domain interval.\n",
    "        x:     solved system to be plotted. \n",
    "    \"\"\"\n",
    "    \n",
    "    x_points = linspace(omega[0], omega[1], num = shape(x)[0]) #define discretization points\n",
    "\n",
    "    plt.rcParams[\"figure.figsize\"] = (10,8)\n",
    "    plt.plot(x_points, x)\n",
    "    plt.xlabel(\"$\\Omega$\", fontsize=10)\n",
    "    plt.title('Solution of FD problem')\n",
    "    plt.xticks(arange(0, 1.1*pi, step=(pi/4)), ['0','π/4', 'π/2','3π/4','π'])\n",
    "    plt.tight_layout()   \n",
    "    return"
   ]
  },
  {
   "cell_type": "code",
   "execution_count": 53,
   "id": "1ba32b0e",
   "metadata": {},
   "outputs": [
    {
     "data": {
      "image/png": "[encoded data removed]",
      "text/plain": [
       "<Figure size 720x576 with 1 Axes>"
      ]
     },
     "metadata": {
      "needs_background": "light"
     },
     "output_type": "display_data"
    }
   ],
   "source": [
    "omega = [0,pi]\n",
    "f = lambda x : sin(x)\n",
    "n = 100\n",
    "bc = [0,0]\n",
    "\n",
    "A, b = finDif(omega, f, n, bc)                  # find matrix A \n",
    "solved_system = solve_system(A,b, pivot = True) # solve the system\n",
    "plot_result(omega, solved_system)               # plot the solution "
   ]
  },
  {
   "cell_type": "markdown",
   "id": "62cdfe65",
   "metadata": {
    "id": "62cdfe65"
   },
   "source": [
    "Considering the new domain $\\Omega = (0,1)$ and the forcing term $f(x) = x(1-x)$ with B.C. $u(x) = 0$, on $\\partial \\Omega = {0,1}$ produce a plot and a table where you show the decay of the error w.r.t. the number of grid points.\n",
    "(The analytical solution for the above problems is $u_{an} = \\frac{x^4}{12} - \\frac{x^3}{6} + \\frac{x}{12}$)"
   ]
  },
  {
   "cell_type": "code",
   "execution_count": 19,
   "id": "174aeccb",
   "metadata": {},
   "outputs": [],
   "source": [
    "def error(omega:int, f:Callable, bc:list, f_real:Callable, max_N:int = 400, step:int = 20) -> pd.DataFrame:\n",
    "    \"\"\"\n",
    "    Function for obtaining the error as a function of grid points.\n",
    "    \n",
    "    Inputs:\n",
    "        omega:  domain interval\n",
    "        f:      forcing function\n",
    "        bc:     boundary conditions\n",
    "        f_real: analytical solution for the problem\n",
    "        max_N:  max number of grid points\n",
    "        step:   step to which sample grid points\n",
    "    \"\"\"\n",
    "    \n",
    "    N = arange(20, max_N, step)\n",
    "    error = zeros(shape(N)[0])\n",
    "    \n",
    "    for idx_n, n in enumerate(N):\n",
    "        A, b = finDif(omega, f, n, bc)                    # find matrix A and b\n",
    "        solved_system = solve_system(A, b, pivot = True) # solve the system\n",
    "        x_points = linspace(omega[0], omega[1], num = n)  # define discretization points\n",
    "        \n",
    "        error[idx_n] = max(abs(solved_system - f_real(x_points))) # find error at grid points\n",
    "    \n",
    "    error_df = pd.DataFrame({'Grid points': N, 'Error': error})\n",
    "    return error_df"
   ]
  },
  {
   "cell_type": "code",
   "execution_count": 54,
   "id": "91212afb",
   "metadata": {
    "id": "91212afb"
   },
   "outputs": [],
   "source": [
    "def plot_error(error_df:pd.DataFrame):\n",
    "    \"\"\"\n",
    "    Function to plot the decay of the error with respect to the number of grid points.\n",
    "    \n",
    "    Inputs:\n",
    "        error_df: dataframe of  columns [Iteration, Error]\n",
    "    \"\"\"\n",
    "    \n",
    "    plt.rcParams[\"figure.figsize\"] = (10,8)\n",
    "    plt.plot(error_df['Grid points'].values, error_df['Error'].values, label = \"${\\\\Vert \\\\cdot \\\\Vert}_{\\\\infty}$\")\n",
    "    plt.xlabel(\"Grid points\")\n",
    "    plt.ylabel(\"Error\")\n",
    "    plt.legend()\n",
    "    plt.yscale('log')\n",
    "    plt.title(\"Decay of the error w.r.t. the number of grid points\")\n",
    "    plt.tight_layout()\n",
    "    return "
   ]
  },
  {
   "cell_type": "code",
   "execution_count": 50,
   "id": "2a384f1a",
   "metadata": {},
   "outputs": [
    {
     "data": {
      "text/html": [
       "<div>\n",
       "<style scoped>\n",
       "    .dataframe tbody tr th:only-of-type {\n",
       "        vertical-align: middle;\n",
       "    }\n",
       "\n",
       "    .dataframe tbody tr th {\n",
       "        vertical-align: top;\n",
       "    }\n",
       "\n",
       "    .dataframe thead th {\n",
       "        text-align: right;\n",
       "    }\n",
       "</style>\n",
       "<table border=\"1\" class=\"dataframe\">\n",
       "  <thead>\n",
       "    <tr style=\"text-align: right;\">\n",
       "      <th></th>\n",
       "      <th>Grid points</th>\n",
       "      <th>Error</th>\n",
       "    </tr>\n",
       "  </thead>\n",
       "  <tbody>\n",
       "    <tr>\n",
       "      <th>0</th>\n",
       "      <td>20</td>\n",
       "      <td>0.004059</td>\n",
       "    </tr>\n",
       "    <tr>\n",
       "      <th>1</th>\n",
       "      <td>40</td>\n",
       "      <td>0.001982</td>\n",
       "    </tr>\n",
       "    <tr>\n",
       "      <th>2</th>\n",
       "      <td>60</td>\n",
       "      <td>0.001311</td>\n",
       "    </tr>\n",
       "    <tr>\n",
       "      <th>3</th>\n",
       "      <td>80</td>\n",
       "      <td>0.000979</td>\n",
       "    </tr>\n",
       "    <tr>\n",
       "      <th>4</th>\n",
       "      <td>100</td>\n",
       "      <td>0.000781</td>\n",
       "    </tr>\n",
       "    <tr>\n",
       "      <th>5</th>\n",
       "      <td>120</td>\n",
       "      <td>0.000650</td>\n",
       "    </tr>\n",
       "    <tr>\n",
       "      <th>6</th>\n",
       "      <td>140</td>\n",
       "      <td>0.000556</td>\n",
       "    </tr>\n",
       "    <tr>\n",
       "      <th>7</th>\n",
       "      <td>160</td>\n",
       "      <td>0.000486</td>\n",
       "    </tr>\n",
       "    <tr>\n",
       "      <th>8</th>\n",
       "      <td>180</td>\n",
       "      <td>0.000432</td>\n",
       "    </tr>\n",
       "    <tr>\n",
       "      <th>9</th>\n",
       "      <td>200</td>\n",
       "      <td>0.000389</td>\n",
       "    </tr>\n",
       "    <tr>\n",
       "      <th>10</th>\n",
       "      <td>220</td>\n",
       "      <td>0.000353</td>\n",
       "    </tr>\n",
       "    <tr>\n",
       "      <th>11</th>\n",
       "      <td>240</td>\n",
       "      <td>0.000324</td>\n",
       "    </tr>\n",
       "    <tr>\n",
       "      <th>12</th>\n",
       "      <td>260</td>\n",
       "      <td>0.000299</td>\n",
       "    </tr>\n",
       "    <tr>\n",
       "      <th>13</th>\n",
       "      <td>280</td>\n",
       "      <td>0.000277</td>\n",
       "    </tr>\n",
       "    <tr>\n",
       "      <th>14</th>\n",
       "      <td>300</td>\n",
       "      <td>0.000259</td>\n",
       "    </tr>\n",
       "    <tr>\n",
       "      <th>15</th>\n",
       "      <td>320</td>\n",
       "      <td>0.000242</td>\n",
       "    </tr>\n",
       "    <tr>\n",
       "      <th>16</th>\n",
       "      <td>340</td>\n",
       "      <td>0.000228</td>\n",
       "    </tr>\n",
       "    <tr>\n",
       "      <th>17</th>\n",
       "      <td>360</td>\n",
       "      <td>0.000215</td>\n",
       "    </tr>\n",
       "    <tr>\n",
       "      <th>18</th>\n",
       "      <td>380</td>\n",
       "      <td>0.000204</td>\n",
       "    </tr>\n",
       "  </tbody>\n",
       "</table>\n",
       "</div>"
      ],
      "text/plain": [
       "    Grid points     Error\n",
       "0            20  0.004059\n",
       "1            40  0.001982\n",
       "2            60  0.001311\n",
       "3            80  0.000979\n",
       "4           100  0.000781\n",
       "5           120  0.000650\n",
       "6           140  0.000556\n",
       "7           160  0.000486\n",
       "8           180  0.000432\n",
       "9           200  0.000389\n",
       "10          220  0.000353\n",
       "11          240  0.000324\n",
       "12          260  0.000299\n",
       "13          280  0.000277\n",
       "14          300  0.000259\n",
       "15          320  0.000242\n",
       "16          340  0.000228\n",
       "17          360  0.000215\n",
       "18          380  0.000204"
      ]
     },
     "execution_count": 50,
     "metadata": {},
     "output_type": "execute_result"
    },
    {
     "data": {
      "image/png": "[encoded data removed]",
      "text/plain": [
       "<Figure size 720x576 with 1 Axes>"
      ]
     },
     "metadata": {
      "needs_background": "light"
     },
     "output_type": "display_data"
    }
   ],
   "source": [
    "omega = [0,1]\n",
    "bc = [0,0]\n",
    "f = lambda x : x*(1-x)\n",
    "f_real = lambda x: power(x,4) / 12 - power(x,3) / 6 + x / 12\n",
    "table = error(omega, f, bc, f_real)\n",
    "plot_error(table)\n",
    "table"
   ]
  },
  {
   "cell_type": "markdown",
   "id": "c8d5002f",
   "metadata": {
    "id": "c8d5002f"
   },
   "source": [
    "Exploit the derived LU factorizations to compute the condition number of the system's matrix $A$ using the original problem formulation."
   ]
  },
  {
   "cell_type": "code",
   "execution_count": 39,
   "id": "1a5c5f4f",
   "metadata": {},
   "outputs": [],
   "source": [
    "def power_method(A:ndarray, eps:float = 1e-10, max_iter:int = 1000) -> Tuple[ndarray,ndarray]:\n",
    "  \"\"\"\n",
    "  Given the system matrix A, the function found its maximum eigenvalue by power method.\n",
    "  Return the evalue l and y.\n",
    "\n",
    "  Inputs:\n",
    "    A: squared and non-singular matrix.\n",
    "    eps: tolerance values.\n",
    "    max_iter: maximum number of iterations required.\n",
    "  \"\"\"\n",
    "  assert(shape(A)[0] == shape(A)[1]), \"Matrix has to be squared\"\n",
    "  assert(linalg.det(A) != 0), \"The matrix A has to be invertible/non-singular\"\n",
    "\n",
    "  x = random.rand(shape(A)[0])  #define random x0\n",
    "  y = x / linalg.norm( x, 2 )   #define y0\n",
    "\n",
    "  err = eps+1                   #define initial error      \n",
    "  it = 0                        #counts number of iteratiobs\n",
    "  l = 0                         #store the value of eigenvalue\n",
    "\n",
    "  while err > eps and it < max_iter: \n",
    "    x_new = A.dot(y)                          #x at iteration k\n",
    "    y = x_new / linalg.norm( x_new, 2 )       #y at iteration k\n",
    "\n",
    "    l = y.dot(y.dot(A))                       #eigenvalue\n",
    "\n",
    "    err = linalg.norm(x_new - l*x,2)          #compute the error\n",
    "    x = x_new                                 #new value of x \n",
    "\n",
    "    it += 1 \n",
    "    \n",
    "  return l,y"
   ]
  },
  {
   "cell_type": "code",
   "execution_count": 40,
   "id": "622aadf4",
   "metadata": {
    "id": "622aadf4"
   },
   "outputs": [],
   "source": [
    "def inverse_power_method(A:ndarray, mu:float, eps:float = 1e-10, max_iter:int = 1000) -> Tuple[ndarray,ndarray]: \n",
    "  \"\"\"\n",
    "  Given the system matrix A, the function found the eigenvalue close to number mu by inverse power method .\n",
    "\n",
    "  Inputs:\n",
    "    A: squared and non-singular matrix.\n",
    "    mu: value where to search the eigenvalue.\n",
    "    eps: tolerance value.\n",
    "    max_iter: maximum number of iterations requested.\n",
    "  \"\"\"\n",
    "  assert(shape(A)[0] == shape(A)[1]), \"Matrix has to be squared\"\n",
    "  assert(linalg.det(A) != 0), \"The matrix A has to be invertible/non-singular\"\n",
    "\n",
    "  x0 = random.rand(shape(A)[0])     #define random x0\n",
    "  y = x0 / linalg.norm( x0, 2 )     #define initial y0\n",
    "\n",
    "  Amu = A - mu * eye(A.shape[0])    #define Amu\n",
    "  (L,U) = LU(Amu)                   #find LU factorization of Amu\n",
    "\n",
    "  err = eps+1                       #define initial error\n",
    "  it = 0                            #counts number of iterations\n",
    "  l = 0                             #store the value of eigenvalue\n",
    "\n",
    "  while err > eps and it < max_iter:\n",
    "    q = L_solve( L, y )             #solve linear system\n",
    "    x = U_solve( U, q )             #solve linear in order to find x\n",
    "\n",
    "    y = x / linalg.norm( x, 2 )     #define new y at iteration k\n",
    "    z = A.dot(y)                    #new value of x \n",
    "\n",
    "    l = y.T.dot(z)                  #find eigenvalue\n",
    "\n",
    "    err = linalg.norm(z - l*y,2)    #compute the error\n",
    "    it += 1\n",
    "    \n",
    "  return l,y"
   ]
  },
  {
   "cell_type": "code",
   "execution_count": 41,
   "id": "c25fc1fe",
   "metadata": {
    "id": "c25fc1fe"
   },
   "outputs": [],
   "source": [
    "def condNumb(A:ndarray) -> float:\n",
    "    \"\"\"\n",
    "    Find condition number of matrix A iff A is SPD.\n",
    "\n",
    "    Input:\n",
    "        A: squared and symmetric positive matrix.\n",
    "    \"\"\"\n",
    "    assert(shape(A)[0] == shape(A)[1]), \"Matrix has to be squared\"\n",
    "    assert(allclose(A, A.transpose())), \"Matrix A is not symmetric\"\n",
    "    assert(all(linalg.eigvals(A) > 0)), \"Matrix A not positive definite\"\n",
    "\n",
    "    \n",
    "    l_max = power_method(A)[0]                     # find max evalue by power method\n",
    "    l_min = inverse_power_method(A, 0.0)[0]        # find min evalue by inverse power method\n",
    "    condNum = l_max / l_min                        # condNum of SPD matrix is evalue_max/evalue_min\n",
    "    return condNum\n",
    "cond_number = condNumb(A)"
   ]
  },
  {
   "cell_type": "markdown",
   "id": "2728b49a",
   "metadata": {
    "id": "2728b49a"
   },
   "source": [
    "Implement a preconditioned Conjugant Gradient method to solve the original linear system of equations using an iterative method:"
   ]
  },
  {
   "cell_type": "code",
   "execution_count": 42,
   "id": "62b83aee",
   "metadata": {
    "id": "62b83aee"
   },
   "outputs": [],
   "source": [
    "def conjugate_gradient(A:ndarray, b:ndarray, P:ndarray = None,  eps:float=1e-10) -> ndarray:\n",
    "    \"\"\"\n",
    "    Compute conjugate gradient method on a symmetric positive definite matrix A.\n",
    "    It returns the solution x of the system.\n",
    "           \n",
    "    Inputs: \n",
    "        A: squared and SPD matrix.\n",
    "        b: right hand side of the system.\n",
    "        P: squared and SPD permutation matrix P, if not given, the identity matrix is used.\n",
    "        eps: tolerance value.\n",
    "    \"\"\"\n",
    "    \n",
    "    assert(shape(A)[0] == shape(A)[1]), \"Matrix has to be squared\"\n",
    "    assert(allclose(A, A.transpose())), \"Matrix A is not symmetric, CG cannot be computed\"\n",
    "    assert(all(linalg.eigvals(A) > 0)), \"Matrix A not positive definite, CG cannot be computed\"\n",
    "\n",
    "    if P is None:\n",
    "        P = identity(shape(A)[0])\n",
    "    else:\n",
    "        assert(allclose(P, P.transpose())), \"Matrix P is not symmetric, CG cannot be computed\"\n",
    "        assert(all(linalg.eigvals(P) > 0)), \"Matrix P not positive definite, CG cannot be computed\"\n",
    "\n",
    "        \n",
    "    A = array(A, dtype = 'float64')\n",
    "    b = array(b, dtype = 'float64')\n",
    "    n = A.shape[0]\n",
    "    \n",
    "    x = zeros(n,n)                  #where to store the solution \n",
    "    r = b - A.dot(x)                #define the residual\n",
    "    z = solve_system(P, r)          #solve the linear system in order to find z0\n",
    "    p = z                           #set p0 equal to z0\n",
    "  \n",
    "    for _ in range(1, n):           #for at most n steps \n",
    "        if linalg.norm(r) < eps:    #check if end condition is satisfied\n",
    "            break\n",
    "            \n",
    "        alpha = p.dot(r) / A.dot(p).dot(p)          #get the value of alpha\n",
    "        x += alpha * p                              #update value of x\n",
    "        r -= alpha * A.dot(p)                       #update value of residual\n",
    "        z = solve_system(P, r)                      #get zk solving the linear system\n",
    "        beta = A.dot(p).dot(z) / A.dot(p).dot(p)    #obtain value of beta\n",
    "        p = z - beta * p                            #update the value of p\n",
    "        \n",
    "    return x"
   ]
  },
  {
   "cell_type": "markdown",
   "id": "8a4cfc02",
   "metadata": {
    "id": "8a4cfc02"
   },
   "source": [
    "Consider the following time dependent variation of the PDE starting from the orginal problem formulation:\n",
    "$$\n",
    "u'(t)-u_{xx} = \\alpha(t)f(x)\n",
    "$$\n",
    "\n",
    "for $t\\in [0,T]$, with $\\alpha(t) = \\cos(t)$ and $T = 6\\pi$\n",
    "\n",
    "Use the same finite difference scheme to derive the semi-discrete formulation and solve it using a forward Euler's method.\n",
    "\n",
    "Plot the time dependent solution solution at $x = \\pi/2$, $x=1$, \n",
    "$x=\\pi$\n"
   ]
  },
  {
   "cell_type": "code",
   "execution_count": 29,
   "id": "3ffe0689",
   "metadata": {
    "id": "3ffe0689"
   },
   "outputs": [],
   "source": [
    "def forward_euler(f:Callable, alpha:Callable, omega:list, t0:int, T:int, n:int, bc:list, Nt:int) -> Tuple[ndarray,ndarray,ndarray]:\n",
    "  \"\"\"\n",
    "  Implemet forward Euler method to find solution x for the differential equation.\n",
    "  Return the solution x. the time t and the discretization points.\n",
    "\n",
    "  Inputs:\n",
    "    f: function for which find the solution.\n",
    "    alpha: time-depend function.\n",
    "    omega: domain interval\n",
    "    t0:    lower bound for t\n",
    "    T:     upper bound for t\n",
    "    n:     number of discretization points (used inside the domain of the PDE)\n",
    "    bc:    boundary conditions \n",
    "    Nt:    number of nodes for the Forward Euler\n",
    "  \"\"\"\n",
    "\n",
    "  h = ( T - t0 ) / Nt                                         #define time step \n",
    "  t = linspace(t0, T, num = Nt+1, dtype='float64')\n",
    "\n",
    "  u = zeros((n, Nt+1))                                        #initialize space for solution\n",
    "\n",
    "  A,b = finDif(omega,f,n,bc)                                  #find FD solution \n",
    "  x_points = linspace(omega[0], omega[1], num = shape(b)[0])  #define discretization points\n",
    "  u[:, 0] = solve_system(A, b)                                #solve linear system for get initial solution at t0\n",
    "\n",
    "  for k in range(Nt):\n",
    "    u_xx = A.dot(u[:, k])                                     #compute derivative at step before   \n",
    "    alpha_0 = alpha(t[k])*b                                   #compute function at step before\n",
    "    u[:,k+1] = u[:, k] - h * u_xx + h * alpha_0\n",
    "\n",
    "  return u, t, x_points"
   ]
  },
  {
   "cell_type": "code",
   "execution_count": 30,
   "id": "7434725a",
   "metadata": {},
   "outputs": [],
   "source": [
    "t0 = 0\n",
    "T = 6*pi\n",
    "Nt = 500000\n",
    "\n",
    "alpha =  lambda t: cos(t)\n",
    "\n",
    "f = lambda x : sin(x)\n",
    "omega = [0,pi]\n",
    "bc = [0,0]\n",
    "n = 100 \n",
    "\n",
    "u, t, x = forward_euler(f, alpha, omega, t0, T, n, bc, Nt)"
   ]
  },
  {
   "cell_type": "code",
   "execution_count": 32,
   "id": "a941b4e6",
   "metadata": {},
   "outputs": [],
   "source": [
    "# find right indexes\n",
    "idx_pi_half = round(n / (omega[-1] - omega[0]) * pi/2) -1\n",
    "idx_one = round(n/(omega[-1] - omega[0])) - 1\n",
    "idx_pi = round(n/(omega[-1] - omega[0]) * pi) - 1"
   ]
  },
  {
   "cell_type": "code",
   "execution_count": 47,
   "id": "f729c4ea",
   "metadata": {},
   "outputs": [
    {
     "data": {
      "image/png": "[encoded data removed]",
      "text/plain": [
       "<Figure size 720x576 with 1 Axes>"
      ]
     },
     "metadata": {
      "needs_background": "light"
     },
     "output_type": "display_data"
    }
   ],
   "source": [
    "plt.rcParams[\"figure.figsize\"] = (10,8)\n",
    "\n",
    "plt.plot(t, u[idx_pi_half,:], label = \"x = π/2\")\n",
    "plt.plot(t, u[idx_one,:], label = \"x = 1\")\n",
    "plt.plot(t, u[idx_pi,:], label = \"x = π\")\n",
    "\n",
    "plt.xlabel(\"Time  t\")\n",
    "plt.ylabel(\"Solution  u(x, t)\")\n",
    "plt.legend()\n",
    "plt.title(\"Time dependent solution of PDE\")\n",
    "plt.tight_layout()\n"
   ]
  },
  {
   "cell_type": "markdown",
   "id": "36936121",
   "metadata": {
    "id": "36936121"
   },
   "source": [
    "Given the original $Au = b$ system, implement an algorithm to compute the eigenvalues and eigenvectors of the matrix $A$. Exploit the computed LU factorization"
   ]
  },
  {
   "cell_type": "code",
   "execution_count": 48,
   "id": "adee7c2a",
   "metadata": {},
   "outputs": [],
   "source": [
    "def eigenvalues(A:ndarray, max_iter:int = 1000) -> ndarray:\n",
    "  \"\"\"\n",
    "  Compute eigenvalues of given matrix A by exploiting LU factorization.\n",
    "  \n",
    "  Inputs:\n",
    "    A: matrix for which evalues are computed.\n",
    "    max_iter: maximum number of iterations required.\n",
    "  \"\"\"\n",
    "  n = A.shape[0]\n",
    "  evals = zeros(n)\n",
    "  (L, U) = LU(A)\n",
    "  \n",
    "  for _ in range(max_iter):\n",
    "    Anew = U.dot(L)\n",
    "    (L, U) = LU(Anew)\n",
    "\n",
    "  evals = sort(diag(Anew)) \n",
    "  return evals"
   ]
  },
  {
   "cell_type": "code",
   "execution_count": 49,
   "id": "4ecaca12",
   "metadata": {},
   "outputs": [],
   "source": [
    "def eigenvectors(A:ndarray, evals:ndarray, eps:float = 1e-5) -> ndarray:\n",
    "    \"\"\"\n",
    "    Return the eigenvectors associated to given eigenvalues by exploiting the inverse power method with shift (mu).\n",
    "\n",
    "    Input: \n",
    "        A: matrix which assumptions are check on the power method function.\n",
    "        evals: eigenvalues array.\n",
    "        eps: tolerance value.\n",
    "    \"\"\"\n",
    "    n = A.shape[0]\n",
    "    evectors = zeros_like(A)\n",
    "\n",
    "    for idx in range(n):\n",
    "        _, eve = inverse_power_method( A, evals[idx] + eps )\n",
    "        evectors[:,idx] = eve\n",
    "\n",
    "    return evectors"
   ]
  },
  {
   "cell_type": "markdown",
   "id": "85d5f64e",
   "metadata": {
    "id": "85d5f64e"
   },
   "source": [
    "Compute the inverse of the matrix A exploiting the derived LU factorization"
   ]
  },
  {
   "cell_type": "code",
   "execution_count": 50,
   "id": "6ad7199f",
   "metadata": {
    "id": "6ad7199f"
   },
   "outputs": [],
   "source": [
    "def compute_inverse(A:ndarray) -> ndarray:\n",
    "    \"\"\"\n",
    "    Compute the inverse of matrix A by exploiting LU factorization.\n",
    "\n",
    "    Inputs:\n",
    "        A: squared, non-singular matrix. \n",
    "    \"\"\"\n",
    "    assert(shape(A)[0] == shape(A)[1]), \"Matrix has to be squared\"\n",
    "    assert(linalg.det(A) != 0), \"The matrix A has to be invertible/non-singular\"\n",
    "    \n",
    "    A = array(A, dtype = 'float64')         # define A matrix \n",
    "    n = A.shape[0]\n",
    "    \n",
    "    inv_A = zeros((n, n))                   # set inverse matrix\n",
    "    I = identity(n)                         # set identity matrix\n",
    "    P, L, U = LU(A, pivot=True)             # do LU factorization\n",
    "    \n",
    "    for k in range(n):\n",
    "        y = L_solve(L, matmul(I[:, k],P))   #solve linear system to find y\n",
    "        inv_A[:,k] = U_solve(U, y)          #solve linear system to find the inverse\n",
    "    \n",
    "    return inv_A"
   ]
  },
  {
   "cell_type": "markdown",
   "id": "cb22566e",
   "metadata": {
    "id": "cb22566e"
   },
   "source": [
    "Consider the following Cauchy problem\n",
    "$$\n",
    "\\begin{cases}\n",
    "y'= -ty^2 \\quad 0\\le t \\le 2\\\\\n",
    "y(0) = 1\n",
    "\\end{cases}\n",
    "$$\n",
    "Implement a Backward Euler's method in a suitable function and solve the resulting non-linear equation using a Newton's method."
   ]
  },
  {
   "cell_type": "code",
   "execution_count": 51,
   "id": "1cf5caf6",
   "metadata": {},
   "outputs": [],
   "source": [
    "def newton(f:Callable, Df:Callable, x:int, eps:float = 1e-10, max_iter:int = 1000) -> ndarray:\n",
    "    \"\"\"\n",
    "    Implement Newton method for searching the zeros of a function f.\n",
    "    Return the solution x.\n",
    "               \n",
    "    Inputs: \n",
    "        f: a function for which searching zeros.\n",
    "        Df: derivative of f.\n",
    "        x: point where to start the search.\n",
    "        eps: tolerance for stopping criteria.\n",
    "        max_iter = max number of iterations.\n",
    "    \"\"\"\n",
    "    \n",
    "    for _ in range(max_iter):\n",
    "        x = x - f(x) / Df(x)\n",
    "        if(abs(f(x)) < eps):\n",
    "            return x\n",
    "    return x                "
   ]
  },
  {
   "cell_type": "code",
   "execution_count": 52,
   "id": "3184e358",
   "metadata": {
    "id": "3184e358"
   },
   "outputs": [],
   "source": [
    "def backward_euler(y0:int, omega:list, N:int = 100) -> Tuple[ndarray,ndarray]:\n",
    "    \"\"\"\n",
    "    Solve ordinary differential equation using Backward Euler and Newton method.\n",
    "    Returns the time discretization t and the solution y.\n",
    "    \n",
    "    Inputs: \n",
    "        y0: point where to start searching zeros.\n",
    "        omega:  domain interval.\n",
    "        N: number of nodes.\n",
    "    \"\"\"\n",
    "    \n",
    "    h = (omega[1] - omega[0])/ N                                    #define time step\n",
    "    t = linspace(omega[0], omega[1], num = N+1, dtype='float64')\n",
    "    y = zeros_like(t)                                               #initialize array for the solution\n",
    "    y[0] = y0                                                       #first solution is y0\n",
    "    \n",
    "    for k in range(1, N+1):                                         #for each node\n",
    "        f = lambda x : x - y[k-1] + h * t[k] * power(x, 2)          #evaluate f at tk\n",
    "        Df = lambda x : 1 + 2 * h * t[k] * x                        #evaluate Df at tk\n",
    "        y[k] = newton(f, Df, y[k-1])                                #find y by Newton method\n",
    "        \n",
    "    return t, y"
   ]
  },
  {
   "cell_type": "code",
   "execution_count": 53,
   "id": "2bfc2e1a",
   "metadata": {},
   "outputs": [
    {
     "data": {
      "image/png": "[encoded data removed]",
      "text/plain": [
       "<Figure size 720x576 with 1 Axes>"
      ]
     },
     "metadata": {
      "needs_background": "light"
     },
     "output_type": "display_data"
    }
   ],
   "source": [
    "y0 = 1\n",
    "omega = [0, 2]\n",
    "t, y = backward_euler(y0, omega, N = 50)\n",
    "y_exact = lambda x: 2/(power(x, 2) + 2)\n",
    "\n",
    "plt.rcParams[\"figure.figsize\"] = (10,8)\n",
    "plt.plot(t, y, '.',  label = 'numerical')\n",
    "plt.plot(t, y_exact(t), label = 'exact')\n",
    "plt.legend()\n",
    "plt.xlabel(\"t\")\n",
    "plt.ylabel(\"y(t)\")\n",
    "plt.title('Comparison between exact and numerical solution')\n",
    "plt.tight_layout()\n",
    "plt.show()"
   ]
  },
  {
   "cell_type": "code",
   "execution_count": null,
   "id": "07a70414",
   "metadata": {},
   "outputs": [],
   "source": []
  }
 ],
 "metadata": {
  "colab": {
   "name": "FinalProject-2021-2022.ipynb",
   "provenance": []
  },
  "interpreter": {
   "hash": "d694f6c116cd702870def28c272741fa350bb192be29558cd88810b403b6ae0d"
  },
  "kernelspec": {
   "display_name": "Python 3.8.12 ('esm')",
   "language": "python",
   "name": "python3"
  },
  "language_info": {
   "codemirror_mode": {
    "name": "ipython",
    "version": 3
   },
   "file_extension": ".py",
   "mimetype": "text/x-python",
   "name": "python",
   "nbconvert_exporter": "python",
   "pygments_lexer": "ipython3",
   "version": "3.8.12"
  }
 },
 "nbformat": 4,
 "nbformat_minor": 5
}
